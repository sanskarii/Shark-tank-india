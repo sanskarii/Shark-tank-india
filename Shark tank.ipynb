{
 "cells": [
  {
   "cell_type": "markdown",
   "metadata": {},
   "source": [
    "SHARK TANK "
   ]
  },
  {
   "cell_type": "code",
   "execution_count": 2,
   "metadata": {},
   "outputs": [],
   "source": [
    "#importing libraries\n",
    "import pandas as pd\n",
    "import numpy as np\n",
    "import matplotlib.pyplot as plt\n",
    "import seaborn as sns\n",
    "import warnings\n",
    "warnings.filterwarnings('ignore')"
   ]
  },
  {
   "cell_type": "code",
   "execution_count": 4,
   "metadata": {},
   "outputs": [
    {
     "data": {
      "text/html": [
       "<div>\n",
       "<style scoped>\n",
       "    .dataframe tbody tr th:only-of-type {\n",
       "        vertical-align: middle;\n",
       "    }\n",
       "\n",
       "    .dataframe tbody tr th {\n",
       "        vertical-align: top;\n",
       "    }\n",
       "\n",
       "    .dataframe thead th {\n",
       "        text-align: right;\n",
       "    }\n",
       "</style>\n",
       "<table border=\"1\" class=\"dataframe\">\n",
       "  <thead>\n",
       "    <tr style=\"text-align: right;\">\n",
       "      <th></th>\n",
       "      <th>Season</th>\n",
       "      <th>Episode</th>\n",
       "      <th>Company</th>\n",
       "      <th>Idea</th>\n",
       "      <th>Deal</th>\n",
       "      <th>Receive_Offer</th>\n",
       "      <th>Reject_Offer</th>\n",
       "      <th>Number of presenters</th>\n",
       "      <th>No of male presenters</th>\n",
       "      <th>No of female presenters</th>\n",
       "      <th>...</th>\n",
       "      <th>AshneerGrover_deal</th>\n",
       "      <th>AnupamMittal_deal</th>\n",
       "      <th>AmanGupta_deal</th>\n",
       "      <th>NamitaThapar_deal</th>\n",
       "      <th>VineetaSingh_deal</th>\n",
       "      <th>PeyushBansal_deal</th>\n",
       "      <th>GhazalAlagh_deal</th>\n",
       "      <th>Number of Sharks invested</th>\n",
       "      <th>Amount per Shark</th>\n",
       "      <th>Equity per Shark</th>\n",
       "    </tr>\n",
       "  </thead>\n",
       "  <tbody>\n",
       "    <tr>\n",
       "      <th>0</th>\n",
       "      <td>1</td>\n",
       "      <td>1</td>\n",
       "      <td>BluePine Industries</td>\n",
       "      <td>Frozen Momos</td>\n",
       "      <td>1</td>\n",
       "      <td>1</td>\n",
       "      <td>0.0</td>\n",
       "      <td>3</td>\n",
       "      <td>2</td>\n",
       "      <td>1</td>\n",
       "      <td>...</td>\n",
       "      <td>1</td>\n",
       "      <td>0</td>\n",
       "      <td>1</td>\n",
       "      <td>0</td>\n",
       "      <td>1</td>\n",
       "      <td>0</td>\n",
       "      <td>0</td>\n",
       "      <td>3</td>\n",
       "      <td>25.0</td>\n",
       "      <td>5.333333</td>\n",
       "    </tr>\n",
       "    <tr>\n",
       "      <th>1</th>\n",
       "      <td>1</td>\n",
       "      <td>1</td>\n",
       "      <td>Booz scooters</td>\n",
       "      <td>Renting e-bike for mobility in private spaces</td>\n",
       "      <td>1</td>\n",
       "      <td>1</td>\n",
       "      <td>0.0</td>\n",
       "      <td>1</td>\n",
       "      <td>1</td>\n",
       "      <td>0</td>\n",
       "      <td>...</td>\n",
       "      <td>1</td>\n",
       "      <td>0</td>\n",
       "      <td>0</td>\n",
       "      <td>0</td>\n",
       "      <td>1</td>\n",
       "      <td>0</td>\n",
       "      <td>0</td>\n",
       "      <td>2</td>\n",
       "      <td>20.0</td>\n",
       "      <td>25.000000</td>\n",
       "    </tr>\n",
       "    <tr>\n",
       "      <th>2</th>\n",
       "      <td>1</td>\n",
       "      <td>1</td>\n",
       "      <td>Heart up my Sleeves</td>\n",
       "      <td>Detachable Sleeves</td>\n",
       "      <td>1</td>\n",
       "      <td>1</td>\n",
       "      <td>0.0</td>\n",
       "      <td>1</td>\n",
       "      <td>0</td>\n",
       "      <td>1</td>\n",
       "      <td>...</td>\n",
       "      <td>0</td>\n",
       "      <td>1</td>\n",
       "      <td>0</td>\n",
       "      <td>0</td>\n",
       "      <td>1</td>\n",
       "      <td>0</td>\n",
       "      <td>0</td>\n",
       "      <td>2</td>\n",
       "      <td>12.5</td>\n",
       "      <td>15.000000</td>\n",
       "    </tr>\n",
       "    <tr>\n",
       "      <th>3</th>\n",
       "      <td>1</td>\n",
       "      <td>2</td>\n",
       "      <td>Tagz Foods</td>\n",
       "      <td>Healthy Potato Chips</td>\n",
       "      <td>1</td>\n",
       "      <td>1</td>\n",
       "      <td>0.0</td>\n",
       "      <td>2</td>\n",
       "      <td>2</td>\n",
       "      <td>0</td>\n",
       "      <td>...</td>\n",
       "      <td>1</td>\n",
       "      <td>0</td>\n",
       "      <td>0</td>\n",
       "      <td>0</td>\n",
       "      <td>0</td>\n",
       "      <td>0</td>\n",
       "      <td>0</td>\n",
       "      <td>1</td>\n",
       "      <td>70.0</td>\n",
       "      <td>2.750000</td>\n",
       "    </tr>\n",
       "    <tr>\n",
       "      <th>4</th>\n",
       "      <td>1</td>\n",
       "      <td>2</td>\n",
       "      <td>Head and Heart</td>\n",
       "      <td>Brain Development Course</td>\n",
       "      <td>0</td>\n",
       "      <td>0</td>\n",
       "      <td>NaN</td>\n",
       "      <td>4</td>\n",
       "      <td>1</td>\n",
       "      <td>3</td>\n",
       "      <td>...</td>\n",
       "      <td>0</td>\n",
       "      <td>0</td>\n",
       "      <td>0</td>\n",
       "      <td>0</td>\n",
       "      <td>0</td>\n",
       "      <td>0</td>\n",
       "      <td>0</td>\n",
       "      <td>0</td>\n",
       "      <td>0.0</td>\n",
       "      <td>0.000000</td>\n",
       "    </tr>\n",
       "    <tr>\n",
       "      <th>...</th>\n",
       "      <td>...</td>\n",
       "      <td>...</td>\n",
       "      <td>...</td>\n",
       "      <td>...</td>\n",
       "      <td>...</td>\n",
       "      <td>...</td>\n",
       "      <td>...</td>\n",
       "      <td>...</td>\n",
       "      <td>...</td>\n",
       "      <td>...</td>\n",
       "      <td>...</td>\n",
       "      <td>...</td>\n",
       "      <td>...</td>\n",
       "      <td>...</td>\n",
       "      <td>...</td>\n",
       "      <td>...</td>\n",
       "      <td>...</td>\n",
       "      <td>...</td>\n",
       "      <td>...</td>\n",
       "      <td>...</td>\n",
       "      <td>...</td>\n",
       "    </tr>\n",
       "    <tr>\n",
       "      <th>116</th>\n",
       "      <td>1</td>\n",
       "      <td>35</td>\n",
       "      <td>Elcare India</td>\n",
       "      <td>Carenting for Elders</td>\n",
       "      <td>0</td>\n",
       "      <td>0</td>\n",
       "      <td>NaN</td>\n",
       "      <td>3</td>\n",
       "      <td>2</td>\n",
       "      <td>1</td>\n",
       "      <td>...</td>\n",
       "      <td>0</td>\n",
       "      <td>0</td>\n",
       "      <td>0</td>\n",
       "      <td>0</td>\n",
       "      <td>0</td>\n",
       "      <td>0</td>\n",
       "      <td>0</td>\n",
       "      <td>0</td>\n",
       "      <td>0.0</td>\n",
       "      <td>0.000000</td>\n",
       "    </tr>\n",
       "    <tr>\n",
       "      <th>117</th>\n",
       "      <td>1</td>\n",
       "      <td>36</td>\n",
       "      <td>SneaKare</td>\n",
       "      <td>Shoe cleaning kits and storage crates</td>\n",
       "      <td>1</td>\n",
       "      <td>1</td>\n",
       "      <td>0.0</td>\n",
       "      <td>1</td>\n",
       "      <td>1</td>\n",
       "      <td>0</td>\n",
       "      <td>...</td>\n",
       "      <td>0</td>\n",
       "      <td>0</td>\n",
       "      <td>1</td>\n",
       "      <td>1</td>\n",
       "      <td>1</td>\n",
       "      <td>0</td>\n",
       "      <td>0</td>\n",
       "      <td>3</td>\n",
       "      <td>7.0</td>\n",
       "      <td>4.000000</td>\n",
       "    </tr>\n",
       "    <tr>\n",
       "      <th>118</th>\n",
       "      <td>1</td>\n",
       "      <td>36</td>\n",
       "      <td>French Crown</td>\n",
       "      <td>Clothing Brand</td>\n",
       "      <td>0</td>\n",
       "      <td>1</td>\n",
       "      <td>1.0</td>\n",
       "      <td>2</td>\n",
       "      <td>2</td>\n",
       "      <td>0</td>\n",
       "      <td>...</td>\n",
       "      <td>0</td>\n",
       "      <td>0</td>\n",
       "      <td>0</td>\n",
       "      <td>0</td>\n",
       "      <td>0</td>\n",
       "      <td>0</td>\n",
       "      <td>0</td>\n",
       "      <td>0</td>\n",
       "      <td>0.0</td>\n",
       "      <td>0.000000</td>\n",
       "    </tr>\n",
       "    <tr>\n",
       "      <th>119</th>\n",
       "      <td>1</td>\n",
       "      <td>36</td>\n",
       "      <td>Store My Goods</td>\n",
       "      <td>Storage Solutions</td>\n",
       "      <td>1</td>\n",
       "      <td>1</td>\n",
       "      <td>0.0</td>\n",
       "      <td>3</td>\n",
       "      <td>2</td>\n",
       "      <td>1</td>\n",
       "      <td>...</td>\n",
       "      <td>0</td>\n",
       "      <td>0</td>\n",
       "      <td>0</td>\n",
       "      <td>1</td>\n",
       "      <td>0</td>\n",
       "      <td>1</td>\n",
       "      <td>0</td>\n",
       "      <td>2</td>\n",
       "      <td>25.0</td>\n",
       "      <td>2.000000</td>\n",
       "    </tr>\n",
       "    <tr>\n",
       "      <th>120</th>\n",
       "      <td>1</td>\n",
       "      <td>36</td>\n",
       "      <td>Devnagri</td>\n",
       "      <td>Translation services of Indian languages</td>\n",
       "      <td>0</td>\n",
       "      <td>1</td>\n",
       "      <td>1.0</td>\n",
       "      <td>2</td>\n",
       "      <td>2</td>\n",
       "      <td>0</td>\n",
       "      <td>...</td>\n",
       "      <td>0</td>\n",
       "      <td>0</td>\n",
       "      <td>0</td>\n",
       "      <td>0</td>\n",
       "      <td>0</td>\n",
       "      <td>0</td>\n",
       "      <td>0</td>\n",
       "      <td>0</td>\n",
       "      <td>0.0</td>\n",
       "      <td>0.000000</td>\n",
       "    </tr>\n",
       "  </tbody>\n",
       "</table>\n",
       "<p>121 rows × 33 columns</p>\n",
       "</div>"
      ],
      "text/plain": [
       "     Season  Episode             Company   \\\n",
       "0         1        1  BluePine Industries   \n",
       "1         1        1        Booz scooters   \n",
       "2         1        1  Heart up my Sleeves   \n",
       "3         1        2           Tagz Foods   \n",
       "4         1        2       Head and Heart   \n",
       "..      ...      ...                  ...   \n",
       "116       1       35         Elcare India   \n",
       "117       1       36             SneaKare   \n",
       "118       1       36         French Crown   \n",
       "119       1       36       Store My Goods   \n",
       "120       1       36             Devnagri   \n",
       "\n",
       "                                              Idea  Deal   Receive_Offer  \\\n",
       "0                                     Frozen Momos      1              1   \n",
       "1    Renting e-bike for mobility in private spaces      1              1   \n",
       "2                               Detachable Sleeves      1              1   \n",
       "3                             Healthy Potato Chips      1              1   \n",
       "4                         Brain Development Course      0              0   \n",
       "..                                             ...    ...            ...   \n",
       "116                           Carenting for Elders      0              0   \n",
       "117          Shoe cleaning kits and storage crates      1              1   \n",
       "118                                 Clothing Brand      0              1   \n",
       "119                              Storage Solutions      1              1   \n",
       "120       Translation services of Indian languages      0              1   \n",
       "\n",
       "     Reject_Offer  Number of presenters  No of male presenters  \\\n",
       "0             0.0                     3                      2   \n",
       "1             0.0                     1                      1   \n",
       "2             0.0                     1                      0   \n",
       "3             0.0                     2                      2   \n",
       "4             NaN                     4                      1   \n",
       "..            ...                   ...                    ...   \n",
       "116           NaN                     3                      2   \n",
       "117           0.0                     1                      1   \n",
       "118           1.0                     2                      2   \n",
       "119           0.0                     3                      2   \n",
       "120           1.0                     2                      2   \n",
       "\n",
       "     No of female presenters  ...  AshneerGrover_deal  AnupamMittal_deal  \\\n",
       "0                          1  ...                   1                  0   \n",
       "1                          0  ...                   1                  0   \n",
       "2                          1  ...                   0                  1   \n",
       "3                          0  ...                   1                  0   \n",
       "4                          3  ...                   0                  0   \n",
       "..                       ...  ...                 ...                ...   \n",
       "116                        1  ...                   0                  0   \n",
       "117                        0  ...                   0                  0   \n",
       "118                        0  ...                   0                  0   \n",
       "119                        1  ...                   0                  0   \n",
       "120                        0  ...                   0                  0   \n",
       "\n",
       "     AmanGupta_deal  NamitaThapar_deal  VineetaSingh_deal  PeyushBansal_deal  \\\n",
       "0                 1                  0                  1                  0   \n",
       "1                 0                  0                  1                  0   \n",
       "2                 0                  0                  1                  0   \n",
       "3                 0                  0                  0                  0   \n",
       "4                 0                  0                  0                  0   \n",
       "..              ...                ...                ...                ...   \n",
       "116               0                  0                  0                  0   \n",
       "117               1                  1                  1                  0   \n",
       "118               0                  0                  0                  0   \n",
       "119               0                  1                  0                  1   \n",
       "120               0                  0                  0                  0   \n",
       "\n",
       "     GhazalAlagh_deal  Number of Sharks invested  Amount per Shark   \\\n",
       "0                   0                          3               25.0   \n",
       "1                   0                          2               20.0   \n",
       "2                   0                          2               12.5   \n",
       "3                   0                          1               70.0   \n",
       "4                   0                          0                0.0   \n",
       "..                ...                        ...                ...   \n",
       "116                 0                          0                0.0   \n",
       "117                 0                          3                7.0   \n",
       "118                 0                          0                0.0   \n",
       "119                 0                          2               25.0   \n",
       "120                 0                          0                0.0   \n",
       "\n",
       "     Equity per Shark  \n",
       "0            5.333333  \n",
       "1           25.000000  \n",
       "2           15.000000  \n",
       "3            2.750000  \n",
       "4            0.000000  \n",
       "..                ...  \n",
       "116          0.000000  \n",
       "117          4.000000  \n",
       "118          0.000000  \n",
       "119          2.000000  \n",
       "120          0.000000  \n",
       "\n",
       "[121 rows x 33 columns]"
      ]
     },
     "execution_count": 4,
     "metadata": {},
     "output_type": "execute_result"
    }
   ],
   "source": [
    "#reading the file\n",
    "df=pd.read_csv(\"shark tank.csv\")\n",
    "df"
   ]
  },
  {
   "cell_type": "code",
   "execution_count": 5,
   "metadata": {
    "scrolled": true
   },
   "outputs": [
    {
     "data": {
      "text/html": [
       "<div>\n",
       "<style scoped>\n",
       "    .dataframe tbody tr th:only-of-type {\n",
       "        vertical-align: middle;\n",
       "    }\n",
       "\n",
       "    .dataframe tbody tr th {\n",
       "        vertical-align: top;\n",
       "    }\n",
       "\n",
       "    .dataframe thead th {\n",
       "        text-align: right;\n",
       "    }\n",
       "</style>\n",
       "<table border=\"1\" class=\"dataframe\">\n",
       "  <thead>\n",
       "    <tr style=\"text-align: right;\">\n",
       "      <th></th>\n",
       "      <th>Season</th>\n",
       "      <th>Episode</th>\n",
       "      <th>Company</th>\n",
       "      <th>Idea</th>\n",
       "      <th>Deal</th>\n",
       "      <th>Receive_Offer</th>\n",
       "      <th>Reject_Offer</th>\n",
       "      <th>Number of presenters</th>\n",
       "      <th>No of male presenters</th>\n",
       "      <th>No of female presenters</th>\n",
       "      <th>...</th>\n",
       "      <th>AshneerGrover_deal</th>\n",
       "      <th>AnupamMittal_deal</th>\n",
       "      <th>AmanGupta_deal</th>\n",
       "      <th>NamitaThapar_deal</th>\n",
       "      <th>VineetaSingh_deal</th>\n",
       "      <th>PeyushBansal_deal</th>\n",
       "      <th>GhazalAlagh_deal</th>\n",
       "      <th>Number of Sharks invested</th>\n",
       "      <th>Amount per Shark</th>\n",
       "      <th>Equity per Shark</th>\n",
       "    </tr>\n",
       "  </thead>\n",
       "  <tbody>\n",
       "    <tr>\n",
       "      <th>0</th>\n",
       "      <td>1</td>\n",
       "      <td>1</td>\n",
       "      <td>BluePine Industries</td>\n",
       "      <td>Frozen Momos</td>\n",
       "      <td>1</td>\n",
       "      <td>1</td>\n",
       "      <td>0.0</td>\n",
       "      <td>3</td>\n",
       "      <td>2</td>\n",
       "      <td>1</td>\n",
       "      <td>...</td>\n",
       "      <td>1</td>\n",
       "      <td>0</td>\n",
       "      <td>1</td>\n",
       "      <td>0</td>\n",
       "      <td>1</td>\n",
       "      <td>0</td>\n",
       "      <td>0</td>\n",
       "      <td>3</td>\n",
       "      <td>25.0</td>\n",
       "      <td>5.333333</td>\n",
       "    </tr>\n",
       "    <tr>\n",
       "      <th>1</th>\n",
       "      <td>1</td>\n",
       "      <td>1</td>\n",
       "      <td>Booz scooters</td>\n",
       "      <td>Renting e-bike for mobility in private spaces</td>\n",
       "      <td>1</td>\n",
       "      <td>1</td>\n",
       "      <td>0.0</td>\n",
       "      <td>1</td>\n",
       "      <td>1</td>\n",
       "      <td>0</td>\n",
       "      <td>...</td>\n",
       "      <td>1</td>\n",
       "      <td>0</td>\n",
       "      <td>0</td>\n",
       "      <td>0</td>\n",
       "      <td>1</td>\n",
       "      <td>0</td>\n",
       "      <td>0</td>\n",
       "      <td>2</td>\n",
       "      <td>20.0</td>\n",
       "      <td>25.000000</td>\n",
       "    </tr>\n",
       "    <tr>\n",
       "      <th>2</th>\n",
       "      <td>1</td>\n",
       "      <td>1</td>\n",
       "      <td>Heart up my Sleeves</td>\n",
       "      <td>Detachable Sleeves</td>\n",
       "      <td>1</td>\n",
       "      <td>1</td>\n",
       "      <td>0.0</td>\n",
       "      <td>1</td>\n",
       "      <td>0</td>\n",
       "      <td>1</td>\n",
       "      <td>...</td>\n",
       "      <td>0</td>\n",
       "      <td>1</td>\n",
       "      <td>0</td>\n",
       "      <td>0</td>\n",
       "      <td>1</td>\n",
       "      <td>0</td>\n",
       "      <td>0</td>\n",
       "      <td>2</td>\n",
       "      <td>12.5</td>\n",
       "      <td>15.000000</td>\n",
       "    </tr>\n",
       "    <tr>\n",
       "      <th>3</th>\n",
       "      <td>1</td>\n",
       "      <td>2</td>\n",
       "      <td>Tagz Foods</td>\n",
       "      <td>Healthy Potato Chips</td>\n",
       "      <td>1</td>\n",
       "      <td>1</td>\n",
       "      <td>0.0</td>\n",
       "      <td>2</td>\n",
       "      <td>2</td>\n",
       "      <td>0</td>\n",
       "      <td>...</td>\n",
       "      <td>1</td>\n",
       "      <td>0</td>\n",
       "      <td>0</td>\n",
       "      <td>0</td>\n",
       "      <td>0</td>\n",
       "      <td>0</td>\n",
       "      <td>0</td>\n",
       "      <td>1</td>\n",
       "      <td>70.0</td>\n",
       "      <td>2.750000</td>\n",
       "    </tr>\n",
       "    <tr>\n",
       "      <th>4</th>\n",
       "      <td>1</td>\n",
       "      <td>2</td>\n",
       "      <td>Head and Heart</td>\n",
       "      <td>Brain Development Course</td>\n",
       "      <td>0</td>\n",
       "      <td>0</td>\n",
       "      <td>NaN</td>\n",
       "      <td>4</td>\n",
       "      <td>1</td>\n",
       "      <td>3</td>\n",
       "      <td>...</td>\n",
       "      <td>0</td>\n",
       "      <td>0</td>\n",
       "      <td>0</td>\n",
       "      <td>0</td>\n",
       "      <td>0</td>\n",
       "      <td>0</td>\n",
       "      <td>0</td>\n",
       "      <td>0</td>\n",
       "      <td>0.0</td>\n",
       "      <td>0.000000</td>\n",
       "    </tr>\n",
       "  </tbody>\n",
       "</table>\n",
       "<p>5 rows × 33 columns</p>\n",
       "</div>"
      ],
      "text/plain": [
       "   Season  Episode             Company   \\\n",
       "0       1        1  BluePine Industries   \n",
       "1       1        1        Booz scooters   \n",
       "2       1        1  Heart up my Sleeves   \n",
       "3       1        2           Tagz Foods   \n",
       "4       1        2       Head and Heart   \n",
       "\n",
       "                                            Idea  Deal   Receive_Offer  \\\n",
       "0                                   Frozen Momos      1              1   \n",
       "1  Renting e-bike for mobility in private spaces      1              1   \n",
       "2                             Detachable Sleeves      1              1   \n",
       "3                           Healthy Potato Chips      1              1   \n",
       "4                       Brain Development Course      0              0   \n",
       "\n",
       "   Reject_Offer  Number of presenters  No of male presenters  \\\n",
       "0           0.0                     3                      2   \n",
       "1           0.0                     1                      1   \n",
       "2           0.0                     1                      0   \n",
       "3           0.0                     2                      2   \n",
       "4           NaN                     4                      1   \n",
       "\n",
       "   No of female presenters  ...  AshneerGrover_deal  AnupamMittal_deal  \\\n",
       "0                        1  ...                   1                  0   \n",
       "1                        0  ...                   1                  0   \n",
       "2                        1  ...                   0                  1   \n",
       "3                        0  ...                   1                  0   \n",
       "4                        3  ...                   0                  0   \n",
       "\n",
       "   AmanGupta_deal  NamitaThapar_deal  VineetaSingh_deal  PeyushBansal_deal  \\\n",
       "0               1                  0                  1                  0   \n",
       "1               0                  0                  1                  0   \n",
       "2               0                  0                  1                  0   \n",
       "3               0                  0                  0                  0   \n",
       "4               0                  0                  0                  0   \n",
       "\n",
       "   GhazalAlagh_deal  Number of Sharks invested  Amount per Shark   \\\n",
       "0                 0                          3               25.0   \n",
       "1                 0                          2               20.0   \n",
       "2                 0                          2               12.5   \n",
       "3                 0                          1               70.0   \n",
       "4                 0                          0                0.0   \n",
       "\n",
       "   Equity per Shark  \n",
       "0          5.333333  \n",
       "1         25.000000  \n",
       "2         15.000000  \n",
       "3          2.750000  \n",
       "4          0.000000  \n",
       "\n",
       "[5 rows x 33 columns]"
      ]
     },
     "execution_count": 5,
     "metadata": {},
     "output_type": "execute_result"
    }
   ],
   "source": [
    "df.head()"
   ]
  },
  {
   "cell_type": "code",
   "execution_count": 6,
   "metadata": {
    "scrolled": true
   },
   "outputs": [
    {
     "data": {
      "text/html": [
       "<div>\n",
       "<style scoped>\n",
       "    .dataframe tbody tr th:only-of-type {\n",
       "        vertical-align: middle;\n",
       "    }\n",
       "\n",
       "    .dataframe tbody tr th {\n",
       "        vertical-align: top;\n",
       "    }\n",
       "\n",
       "    .dataframe thead th {\n",
       "        text-align: right;\n",
       "    }\n",
       "</style>\n",
       "<table border=\"1\" class=\"dataframe\">\n",
       "  <thead>\n",
       "    <tr style=\"text-align: right;\">\n",
       "      <th></th>\n",
       "      <th>Season</th>\n",
       "      <th>Episode</th>\n",
       "      <th>Company</th>\n",
       "      <th>Idea</th>\n",
       "      <th>Deal</th>\n",
       "      <th>Receive_Offer</th>\n",
       "      <th>Reject_Offer</th>\n",
       "      <th>Number of presenters</th>\n",
       "      <th>No of male presenters</th>\n",
       "      <th>No of female presenters</th>\n",
       "      <th>...</th>\n",
       "      <th>AshneerGrover_deal</th>\n",
       "      <th>AnupamMittal_deal</th>\n",
       "      <th>AmanGupta_deal</th>\n",
       "      <th>NamitaThapar_deal</th>\n",
       "      <th>VineetaSingh_deal</th>\n",
       "      <th>PeyushBansal_deal</th>\n",
       "      <th>GhazalAlagh_deal</th>\n",
       "      <th>Number of Sharks invested</th>\n",
       "      <th>Amount per Shark</th>\n",
       "      <th>Equity per Shark</th>\n",
       "    </tr>\n",
       "  </thead>\n",
       "  <tbody>\n",
       "    <tr>\n",
       "      <th>116</th>\n",
       "      <td>1</td>\n",
       "      <td>35</td>\n",
       "      <td>Elcare India</td>\n",
       "      <td>Carenting for Elders</td>\n",
       "      <td>0</td>\n",
       "      <td>0</td>\n",
       "      <td>NaN</td>\n",
       "      <td>3</td>\n",
       "      <td>2</td>\n",
       "      <td>1</td>\n",
       "      <td>...</td>\n",
       "      <td>0</td>\n",
       "      <td>0</td>\n",
       "      <td>0</td>\n",
       "      <td>0</td>\n",
       "      <td>0</td>\n",
       "      <td>0</td>\n",
       "      <td>0</td>\n",
       "      <td>0</td>\n",
       "      <td>0.0</td>\n",
       "      <td>0.0</td>\n",
       "    </tr>\n",
       "    <tr>\n",
       "      <th>117</th>\n",
       "      <td>1</td>\n",
       "      <td>36</td>\n",
       "      <td>SneaKare</td>\n",
       "      <td>Shoe cleaning kits and storage crates</td>\n",
       "      <td>1</td>\n",
       "      <td>1</td>\n",
       "      <td>0.0</td>\n",
       "      <td>1</td>\n",
       "      <td>1</td>\n",
       "      <td>0</td>\n",
       "      <td>...</td>\n",
       "      <td>0</td>\n",
       "      <td>0</td>\n",
       "      <td>1</td>\n",
       "      <td>1</td>\n",
       "      <td>1</td>\n",
       "      <td>0</td>\n",
       "      <td>0</td>\n",
       "      <td>3</td>\n",
       "      <td>7.0</td>\n",
       "      <td>4.0</td>\n",
       "    </tr>\n",
       "    <tr>\n",
       "      <th>118</th>\n",
       "      <td>1</td>\n",
       "      <td>36</td>\n",
       "      <td>French Crown</td>\n",
       "      <td>Clothing Brand</td>\n",
       "      <td>0</td>\n",
       "      <td>1</td>\n",
       "      <td>1.0</td>\n",
       "      <td>2</td>\n",
       "      <td>2</td>\n",
       "      <td>0</td>\n",
       "      <td>...</td>\n",
       "      <td>0</td>\n",
       "      <td>0</td>\n",
       "      <td>0</td>\n",
       "      <td>0</td>\n",
       "      <td>0</td>\n",
       "      <td>0</td>\n",
       "      <td>0</td>\n",
       "      <td>0</td>\n",
       "      <td>0.0</td>\n",
       "      <td>0.0</td>\n",
       "    </tr>\n",
       "    <tr>\n",
       "      <th>119</th>\n",
       "      <td>1</td>\n",
       "      <td>36</td>\n",
       "      <td>Store My Goods</td>\n",
       "      <td>Storage Solutions</td>\n",
       "      <td>1</td>\n",
       "      <td>1</td>\n",
       "      <td>0.0</td>\n",
       "      <td>3</td>\n",
       "      <td>2</td>\n",
       "      <td>1</td>\n",
       "      <td>...</td>\n",
       "      <td>0</td>\n",
       "      <td>0</td>\n",
       "      <td>0</td>\n",
       "      <td>1</td>\n",
       "      <td>0</td>\n",
       "      <td>1</td>\n",
       "      <td>0</td>\n",
       "      <td>2</td>\n",
       "      <td>25.0</td>\n",
       "      <td>2.0</td>\n",
       "    </tr>\n",
       "    <tr>\n",
       "      <th>120</th>\n",
       "      <td>1</td>\n",
       "      <td>36</td>\n",
       "      <td>Devnagri</td>\n",
       "      <td>Translation services of Indian languages</td>\n",
       "      <td>0</td>\n",
       "      <td>1</td>\n",
       "      <td>1.0</td>\n",
       "      <td>2</td>\n",
       "      <td>2</td>\n",
       "      <td>0</td>\n",
       "      <td>...</td>\n",
       "      <td>0</td>\n",
       "      <td>0</td>\n",
       "      <td>0</td>\n",
       "      <td>0</td>\n",
       "      <td>0</td>\n",
       "      <td>0</td>\n",
       "      <td>0</td>\n",
       "      <td>0</td>\n",
       "      <td>0.0</td>\n",
       "      <td>0.0</td>\n",
       "    </tr>\n",
       "  </tbody>\n",
       "</table>\n",
       "<p>5 rows × 33 columns</p>\n",
       "</div>"
      ],
      "text/plain": [
       "     Season  Episode        Company   \\\n",
       "116       1       35    Elcare India   \n",
       "117       1       36        SneaKare   \n",
       "118       1       36    French Crown   \n",
       "119       1       36  Store My Goods   \n",
       "120       1       36        Devnagri   \n",
       "\n",
       "                                         Idea  Deal   Receive_Offer  \\\n",
       "116                      Carenting for Elders      0              0   \n",
       "117     Shoe cleaning kits and storage crates      1              1   \n",
       "118                            Clothing Brand      0              1   \n",
       "119                         Storage Solutions      1              1   \n",
       "120  Translation services of Indian languages      0              1   \n",
       "\n",
       "     Reject_Offer  Number of presenters  No of male presenters  \\\n",
       "116           NaN                     3                      2   \n",
       "117           0.0                     1                      1   \n",
       "118           1.0                     2                      2   \n",
       "119           0.0                     3                      2   \n",
       "120           1.0                     2                      2   \n",
       "\n",
       "     No of female presenters  ...  AshneerGrover_deal  AnupamMittal_deal  \\\n",
       "116                        1  ...                   0                  0   \n",
       "117                        0  ...                   0                  0   \n",
       "118                        0  ...                   0                  0   \n",
       "119                        1  ...                   0                  0   \n",
       "120                        0  ...                   0                  0   \n",
       "\n",
       "     AmanGupta_deal  NamitaThapar_deal  VineetaSingh_deal  PeyushBansal_deal  \\\n",
       "116               0                  0                  0                  0   \n",
       "117               1                  1                  1                  0   \n",
       "118               0                  0                  0                  0   \n",
       "119               0                  1                  0                  1   \n",
       "120               0                  0                  0                  0   \n",
       "\n",
       "     GhazalAlagh_deal  Number of Sharks invested  Amount per Shark   \\\n",
       "116                 0                          0                0.0   \n",
       "117                 0                          3                7.0   \n",
       "118                 0                          0                0.0   \n",
       "119                 0                          2               25.0   \n",
       "120                 0                          0                0.0   \n",
       "\n",
       "     Equity per Shark  \n",
       "116               0.0  \n",
       "117               4.0  \n",
       "118               0.0  \n",
       "119               2.0  \n",
       "120               0.0  \n",
       "\n",
       "[5 rows x 33 columns]"
      ]
     },
     "execution_count": 6,
     "metadata": {},
     "output_type": "execute_result"
    }
   ],
   "source": [
    "df.tail()"
   ]
  },
  {
   "cell_type": "code",
   "execution_count": 7,
   "metadata": {},
   "outputs": [
    {
     "data": {
      "text/plain": [
       "(121, 33)"
      ]
     },
     "execution_count": 7,
     "metadata": {},
     "output_type": "execute_result"
    }
   ],
   "source": [
    "#number of rows and columns\n",
    "df.shape"
   ]
  },
  {
   "cell_type": "code",
   "execution_count": 8,
   "metadata": {},
   "outputs": [
    {
     "data": {
      "text/plain": [
       "Index(['Season', 'Episode', 'Company ', 'Idea', 'Deal ', 'Receive_Offer',\n",
       "       'Reject_Offer', 'Number of presenters', 'No of male presenters',\n",
       "       'No of female presenters', 'Ask_Amount (INR Lakhs)', 'Ask_Equity',\n",
       "       'Ask_Valuation (INR Lakhs)', 'Deal_Amount (INR Lakhs)', 'Deal_Equity',\n",
       "       'Deal_Valuation ', 'AshneerGrover_present', 'AnupamMittal_present',\n",
       "       'AmanGupta_present', 'NamitaThapar_present', 'VineetaSingh_present',\n",
       "       'PeyushBansal_present', 'GhazalAlagh_present', 'AshneerGrover_deal',\n",
       "       'AnupamMittal_deal', 'AmanGupta_deal', 'NamitaThapar_deal',\n",
       "       'VineetaSingh_deal', 'PeyushBansal_deal', 'GhazalAlagh_deal',\n",
       "       'Number of Sharks invested', 'Amount per Shark ', 'Equity per Shark'],\n",
       "      dtype='object')"
      ]
     },
     "execution_count": 8,
     "metadata": {},
     "output_type": "execute_result"
    }
   ],
   "source": [
    "df.columns"
   ]
  },
  {
   "cell_type": "code",
   "execution_count": 9,
   "metadata": {},
   "outputs": [
    {
     "name": "stdout",
     "output_type": "stream",
     "text": [
      "<class 'pandas.core.frame.DataFrame'>\n",
      "RangeIndex: 121 entries, 0 to 120\n",
      "Data columns (total 33 columns):\n",
      " #   Column                     Non-Null Count  Dtype  \n",
      "---  ------                     --------------  -----  \n",
      " 0   Season                     121 non-null    int64  \n",
      " 1   Episode                    121 non-null    int64  \n",
      " 2   Company                    121 non-null    object \n",
      " 3   Idea                       121 non-null    object \n",
      " 4   Deal                       121 non-null    int64  \n",
      " 5   Receive_Offer              121 non-null    int64  \n",
      " 6   Reject_Offer               87 non-null     float64\n",
      " 7   Number of presenters       121 non-null    int64  \n",
      " 8   No of male presenters      121 non-null    int64  \n",
      " 9   No of female presenters    121 non-null    int64  \n",
      " 10  Ask_Amount (INR Lakhs)     121 non-null    float64\n",
      " 11  Ask_Equity                 121 non-null    float64\n",
      " 12  Ask_Valuation (INR Lakhs)  121 non-null    float64\n",
      " 13  Deal_Amount (INR Lakhs)    121 non-null    float64\n",
      " 14  Deal_Equity                121 non-null    float64\n",
      " 15  Deal_Valuation             121 non-null    float64\n",
      " 16  AshneerGrover_present      121 non-null    int64  \n",
      " 17  AnupamMittal_present       121 non-null    int64  \n",
      " 18  AmanGupta_present          121 non-null    int64  \n",
      " 19  NamitaThapar_present       121 non-null    int64  \n",
      " 20  VineetaSingh_present       121 non-null    int64  \n",
      " 21  PeyushBansal_present       121 non-null    int64  \n",
      " 22  GhazalAlagh_present        121 non-null    int64  \n",
      " 23  AshneerGrover_deal         121 non-null    int64  \n",
      " 24  AnupamMittal_deal          121 non-null    int64  \n",
      " 25  AmanGupta_deal             121 non-null    int64  \n",
      " 26  NamitaThapar_deal          121 non-null    int64  \n",
      " 27  VineetaSingh_deal          121 non-null    int64  \n",
      " 28  PeyushBansal_deal          121 non-null    int64  \n",
      " 29  GhazalAlagh_deal           121 non-null    int64  \n",
      " 30  Number of Sharks invested  121 non-null    int64  \n",
      " 31  Amount per Shark           121 non-null    float64\n",
      " 32  Equity per Shark           121 non-null    float64\n",
      "dtypes: float64(9), int64(22), object(2)\n",
      "memory usage: 31.3+ KB\n"
     ]
    }
   ],
   "source": [
    "df.info()"
   ]
  },
  {
   "cell_type": "code",
   "execution_count": 11,
   "metadata": {},
   "outputs": [
    {
     "data": {
      "text/html": [
       "<div>\n",
       "<style scoped>\n",
       "    .dataframe tbody tr th:only-of-type {\n",
       "        vertical-align: middle;\n",
       "    }\n",
       "\n",
       "    .dataframe tbody tr th {\n",
       "        vertical-align: top;\n",
       "    }\n",
       "\n",
       "    .dataframe thead th {\n",
       "        text-align: right;\n",
       "    }\n",
       "</style>\n",
       "<table border=\"1\" class=\"dataframe\">\n",
       "  <thead>\n",
       "    <tr style=\"text-align: right;\">\n",
       "      <th></th>\n",
       "      <th>Season</th>\n",
       "      <th>Episode</th>\n",
       "      <th>Deal</th>\n",
       "      <th>Receive_Offer</th>\n",
       "      <th>Reject_Offer</th>\n",
       "      <th>Number of presenters</th>\n",
       "      <th>No of male presenters</th>\n",
       "      <th>No of female presenters</th>\n",
       "      <th>Ask_Amount (INR Lakhs)</th>\n",
       "      <th>Ask_Equity</th>\n",
       "      <th>...</th>\n",
       "      <th>AshneerGrover_deal</th>\n",
       "      <th>AnupamMittal_deal</th>\n",
       "      <th>AmanGupta_deal</th>\n",
       "      <th>NamitaThapar_deal</th>\n",
       "      <th>VineetaSingh_deal</th>\n",
       "      <th>PeyushBansal_deal</th>\n",
       "      <th>GhazalAlagh_deal</th>\n",
       "      <th>Number of Sharks invested</th>\n",
       "      <th>Amount per Shark</th>\n",
       "      <th>Equity per Shark</th>\n",
       "    </tr>\n",
       "  </thead>\n",
       "  <tbody>\n",
       "    <tr>\n",
       "      <th>count</th>\n",
       "      <td>121.0</td>\n",
       "      <td>121.000000</td>\n",
       "      <td>121.000000</td>\n",
       "      <td>121.000000</td>\n",
       "      <td>87.000000</td>\n",
       "      <td>121.000000</td>\n",
       "      <td>121.000000</td>\n",
       "      <td>121.000000</td>\n",
       "      <td>121.000000</td>\n",
       "      <td>121.000000</td>\n",
       "      <td>...</td>\n",
       "      <td>121.000000</td>\n",
       "      <td>121.000000</td>\n",
       "      <td>121.000000</td>\n",
       "      <td>121.000000</td>\n",
       "      <td>121.000000</td>\n",
       "      <td>121.000000</td>\n",
       "      <td>121.000000</td>\n",
       "      <td>121.000000</td>\n",
       "      <td>121.000000</td>\n",
       "      <td>121.000000</td>\n",
       "    </tr>\n",
       "    <tr>\n",
       "      <th>mean</th>\n",
       "      <td>1.0</td>\n",
       "      <td>19.305785</td>\n",
       "      <td>0.553719</td>\n",
       "      <td>0.719008</td>\n",
       "      <td>0.206897</td>\n",
       "      <td>2.066116</td>\n",
       "      <td>1.446281</td>\n",
       "      <td>0.619835</td>\n",
       "      <td>312.338851</td>\n",
       "      <td>5.083306</td>\n",
       "      <td>...</td>\n",
       "      <td>0.173554</td>\n",
       "      <td>0.198347</td>\n",
       "      <td>0.239669</td>\n",
       "      <td>0.198347</td>\n",
       "      <td>0.132231</td>\n",
       "      <td>0.231405</td>\n",
       "      <td>0.057851</td>\n",
       "      <td>1.231405</td>\n",
       "      <td>17.797523</td>\n",
       "      <td>5.448595</td>\n",
       "    </tr>\n",
       "    <tr>\n",
       "      <th>std</th>\n",
       "      <td>0.0</td>\n",
       "      <td>10.375326</td>\n",
       "      <td>0.499173</td>\n",
       "      <td>0.451352</td>\n",
       "      <td>0.407429</td>\n",
       "      <td>0.946357</td>\n",
       "      <td>1.079741</td>\n",
       "      <td>0.698286</td>\n",
       "      <td>2721.640471</td>\n",
       "      <td>3.882554</td>\n",
       "      <td>...</td>\n",
       "      <td>0.380300</td>\n",
       "      <td>0.400413</td>\n",
       "      <td>0.428657</td>\n",
       "      <td>0.400413</td>\n",
       "      <td>0.340151</td>\n",
       "      <td>0.423484</td>\n",
       "      <td>0.234433</td>\n",
       "      <td>1.406890</td>\n",
       "      <td>23.338184</td>\n",
       "      <td>10.651783</td>\n",
       "    </tr>\n",
       "    <tr>\n",
       "      <th>min</th>\n",
       "      <td>1.0</td>\n",
       "      <td>1.000000</td>\n",
       "      <td>0.000000</td>\n",
       "      <td>0.000000</td>\n",
       "      <td>0.000000</td>\n",
       "      <td>1.000000</td>\n",
       "      <td>0.000000</td>\n",
       "      <td>0.000000</td>\n",
       "      <td>0.001010</td>\n",
       "      <td>0.250000</td>\n",
       "      <td>...</td>\n",
       "      <td>0.000000</td>\n",
       "      <td>0.000000</td>\n",
       "      <td>0.000000</td>\n",
       "      <td>0.000000</td>\n",
       "      <td>0.000000</td>\n",
       "      <td>0.000000</td>\n",
       "      <td>0.000000</td>\n",
       "      <td>0.000000</td>\n",
       "      <td>0.000000</td>\n",
       "      <td>0.000000</td>\n",
       "    </tr>\n",
       "    <tr>\n",
       "      <th>25%</th>\n",
       "      <td>1.0</td>\n",
       "      <td>11.000000</td>\n",
       "      <td>0.000000</td>\n",
       "      <td>0.000000</td>\n",
       "      <td>0.000000</td>\n",
       "      <td>1.000000</td>\n",
       "      <td>1.000000</td>\n",
       "      <td>0.000000</td>\n",
       "      <td>45.000000</td>\n",
       "      <td>2.000000</td>\n",
       "      <td>...</td>\n",
       "      <td>0.000000</td>\n",
       "      <td>0.000000</td>\n",
       "      <td>0.000000</td>\n",
       "      <td>0.000000</td>\n",
       "      <td>0.000000</td>\n",
       "      <td>0.000000</td>\n",
       "      <td>0.000000</td>\n",
       "      <td>0.000000</td>\n",
       "      <td>0.000000</td>\n",
       "      <td>0.000000</td>\n",
       "    </tr>\n",
       "    <tr>\n",
       "      <th>50%</th>\n",
       "      <td>1.0</td>\n",
       "      <td>19.000000</td>\n",
       "      <td>1.000000</td>\n",
       "      <td>1.000000</td>\n",
       "      <td>0.000000</td>\n",
       "      <td>2.000000</td>\n",
       "      <td>1.000000</td>\n",
       "      <td>1.000000</td>\n",
       "      <td>50.000000</td>\n",
       "      <td>5.000000</td>\n",
       "      <td>...</td>\n",
       "      <td>0.000000</td>\n",
       "      <td>0.000000</td>\n",
       "      <td>0.000000</td>\n",
       "      <td>0.000000</td>\n",
       "      <td>0.000000</td>\n",
       "      <td>0.000000</td>\n",
       "      <td>0.000000</td>\n",
       "      <td>1.000000</td>\n",
       "      <td>10.000000</td>\n",
       "      <td>1.250000</td>\n",
       "    </tr>\n",
       "    <tr>\n",
       "      <th>75%</th>\n",
       "      <td>1.0</td>\n",
       "      <td>28.000000</td>\n",
       "      <td>1.000000</td>\n",
       "      <td>1.000000</td>\n",
       "      <td>0.000000</td>\n",
       "      <td>3.000000</td>\n",
       "      <td>2.000000</td>\n",
       "      <td>1.000000</td>\n",
       "      <td>80.000000</td>\n",
       "      <td>7.000000</td>\n",
       "      <td>...</td>\n",
       "      <td>0.000000</td>\n",
       "      <td>0.000000</td>\n",
       "      <td>0.000000</td>\n",
       "      <td>0.000000</td>\n",
       "      <td>0.000000</td>\n",
       "      <td>0.000000</td>\n",
       "      <td>0.000000</td>\n",
       "      <td>2.000000</td>\n",
       "      <td>25.000000</td>\n",
       "      <td>6.000000</td>\n",
       "    </tr>\n",
       "    <tr>\n",
       "      <th>max</th>\n",
       "      <td>1.0</td>\n",
       "      <td>36.000000</td>\n",
       "      <td>1.000000</td>\n",
       "      <td>1.000000</td>\n",
       "      <td>1.000000</td>\n",
       "      <td>6.000000</td>\n",
       "      <td>6.000000</td>\n",
       "      <td>3.000000</td>\n",
       "      <td>30000.000000</td>\n",
       "      <td>25.000000</td>\n",
       "      <td>...</td>\n",
       "      <td>1.000000</td>\n",
       "      <td>1.000000</td>\n",
       "      <td>1.000000</td>\n",
       "      <td>1.000000</td>\n",
       "      <td>1.000000</td>\n",
       "      <td>1.000000</td>\n",
       "      <td>1.000000</td>\n",
       "      <td>5.000000</td>\n",
       "      <td>100.000000</td>\n",
       "      <td>75.000000</td>\n",
       "    </tr>\n",
       "  </tbody>\n",
       "</table>\n",
       "<p>8 rows × 31 columns</p>\n",
       "</div>"
      ],
      "text/plain": [
       "       Season     Episode       Deal   Receive_Offer  Reject_Offer  \\\n",
       "count   121.0  121.000000  121.000000     121.000000     87.000000   \n",
       "mean      1.0   19.305785    0.553719       0.719008      0.206897   \n",
       "std       0.0   10.375326    0.499173       0.451352      0.407429   \n",
       "min       1.0    1.000000    0.000000       0.000000      0.000000   \n",
       "25%       1.0   11.000000    0.000000       0.000000      0.000000   \n",
       "50%       1.0   19.000000    1.000000       1.000000      0.000000   \n",
       "75%       1.0   28.000000    1.000000       1.000000      0.000000   \n",
       "max       1.0   36.000000    1.000000       1.000000      1.000000   \n",
       "\n",
       "       Number of presenters  No of male presenters  No of female presenters  \\\n",
       "count            121.000000             121.000000               121.000000   \n",
       "mean               2.066116               1.446281                 0.619835   \n",
       "std                0.946357               1.079741                 0.698286   \n",
       "min                1.000000               0.000000                 0.000000   \n",
       "25%                1.000000               1.000000                 0.000000   \n",
       "50%                2.000000               1.000000                 1.000000   \n",
       "75%                3.000000               2.000000                 1.000000   \n",
       "max                6.000000               6.000000                 3.000000   \n",
       "\n",
       "       Ask_Amount (INR Lakhs)  Ask_Equity  ...  AshneerGrover_deal  \\\n",
       "count              121.000000  121.000000  ...          121.000000   \n",
       "mean               312.338851    5.083306  ...            0.173554   \n",
       "std               2721.640471    3.882554  ...            0.380300   \n",
       "min                  0.001010    0.250000  ...            0.000000   \n",
       "25%                 45.000000    2.000000  ...            0.000000   \n",
       "50%                 50.000000    5.000000  ...            0.000000   \n",
       "75%                 80.000000    7.000000  ...            0.000000   \n",
       "max              30000.000000   25.000000  ...            1.000000   \n",
       "\n",
       "       AnupamMittal_deal  AmanGupta_deal  NamitaThapar_deal  \\\n",
       "count         121.000000      121.000000         121.000000   \n",
       "mean            0.198347        0.239669           0.198347   \n",
       "std             0.400413        0.428657           0.400413   \n",
       "min             0.000000        0.000000           0.000000   \n",
       "25%             0.000000        0.000000           0.000000   \n",
       "50%             0.000000        0.000000           0.000000   \n",
       "75%             0.000000        0.000000           0.000000   \n",
       "max             1.000000        1.000000           1.000000   \n",
       "\n",
       "       VineetaSingh_deal  PeyushBansal_deal  GhazalAlagh_deal  \\\n",
       "count         121.000000         121.000000        121.000000   \n",
       "mean            0.132231           0.231405          0.057851   \n",
       "std             0.340151           0.423484          0.234433   \n",
       "min             0.000000           0.000000          0.000000   \n",
       "25%             0.000000           0.000000          0.000000   \n",
       "50%             0.000000           0.000000          0.000000   \n",
       "75%             0.000000           0.000000          0.000000   \n",
       "max             1.000000           1.000000          1.000000   \n",
       "\n",
       "       Number of Sharks invested  Amount per Shark   Equity per Shark  \n",
       "count                 121.000000         121.000000        121.000000  \n",
       "mean                    1.231405          17.797523          5.448595  \n",
       "std                     1.406890          23.338184         10.651783  \n",
       "min                     0.000000           0.000000          0.000000  \n",
       "25%                     0.000000           0.000000          0.000000  \n",
       "50%                     1.000000          10.000000          1.250000  \n",
       "75%                     2.000000          25.000000          6.000000  \n",
       "max                     5.000000         100.000000         75.000000  \n",
       "\n",
       "[8 rows x 31 columns]"
      ]
     },
     "execution_count": 11,
     "metadata": {},
     "output_type": "execute_result"
    }
   ],
   "source": [
    "df.describe()"
   ]
  },
  {
   "cell_type": "code",
   "execution_count": 12,
   "metadata": {},
   "outputs": [
    {
     "data": {
      "text/plain": [
       "Season                        0\n",
       "Episode                       0\n",
       "Company                       0\n",
       "Idea                          0\n",
       "Deal                          0\n",
       "Receive_Offer                 0\n",
       "Reject_Offer                 34\n",
       "Number of presenters          0\n",
       "No of male presenters         0\n",
       "No of female presenters       0\n",
       "Ask_Amount (INR Lakhs)        0\n",
       "Ask_Equity                    0\n",
       "Ask_Valuation (INR Lakhs)     0\n",
       "Deal_Amount (INR Lakhs)       0\n",
       "Deal_Equity                   0\n",
       "Deal_Valuation                0\n",
       "AshneerGrover_present         0\n",
       "AnupamMittal_present          0\n",
       "AmanGupta_present             0\n",
       "NamitaThapar_present          0\n",
       "VineetaSingh_present          0\n",
       "PeyushBansal_present          0\n",
       "GhazalAlagh_present           0\n",
       "AshneerGrover_deal            0\n",
       "AnupamMittal_deal             0\n",
       "AmanGupta_deal                0\n",
       "NamitaThapar_deal             0\n",
       "VineetaSingh_deal             0\n",
       "PeyushBansal_deal             0\n",
       "GhazalAlagh_deal              0\n",
       "Number of Sharks invested     0\n",
       "Amount per Shark              0\n",
       "Equity per Shark              0\n",
       "dtype: int64"
      ]
     },
     "execution_count": 12,
     "metadata": {},
     "output_type": "execute_result"
    }
   ],
   "source": [
    "df.isnull().sum()"
   ]
  },
  {
   "cell_type": "code",
   "execution_count": 13,
   "metadata": {},
   "outputs": [
    {
     "data": {
      "text/plain": [
       "1    67\n",
       "0    54\n",
       "Name: Deal , dtype: int64"
      ]
     },
     "execution_count": 13,
     "metadata": {},
     "output_type": "execute_result"
    }
   ],
   "source": [
    "df['Deal '].value_counts()"
   ]
  },
  {
   "cell_type": "code",
   "execution_count": 14,
   "metadata": {},
   "outputs": [
    {
     "data": {
      "text/plain": [
       "1    98\n",
       "0    23\n",
       "Name: AshneerGrover_present, dtype: int64"
      ]
     },
     "execution_count": 14,
     "metadata": {},
     "output_type": "execute_result"
    }
   ],
   "source": [
    "df['AshneerGrover_present'].value_counts()"
   ]
  },
  {
   "cell_type": "code",
   "execution_count": 15,
   "metadata": {},
   "outputs": [
    {
     "data": {
      "text/plain": [
       "1    121\n",
       "Name: AnupamMittal_present, dtype: int64"
      ]
     },
     "execution_count": 15,
     "metadata": {},
     "output_type": "execute_result"
    }
   ],
   "source": [
    "df['AnupamMittal_present'].value_counts()"
   ]
  },
  {
   "cell_type": "code",
   "execution_count": 16,
   "metadata": {},
   "outputs": [
    {
     "data": {
      "text/plain": [
       "1    102\n",
       "0     19\n",
       "Name: AmanGupta_present, dtype: int64"
      ]
     },
     "execution_count": 16,
     "metadata": {},
     "output_type": "execute_result"
    }
   ],
   "source": [
    "df['AmanGupta_present'].value_counts()"
   ]
  },
  {
   "cell_type": "code",
   "execution_count": 17,
   "metadata": {},
   "outputs": [
    {
     "data": {
      "text/plain": [
       "1    110\n",
       "0     11\n",
       "Name: NamitaThapar_present, dtype: int64"
      ]
     },
     "execution_count": 17,
     "metadata": {},
     "output_type": "execute_result"
    }
   ],
   "source": [
    "df['NamitaThapar_present'].value_counts()"
   ]
  },
  {
   "cell_type": "code",
   "execution_count": 18,
   "metadata": {},
   "outputs": [
    {
     "data": {
      "text/plain": [
       "1    70\n",
       "0    51\n",
       "Name: VineetaSingh_present, dtype: int64"
      ]
     },
     "execution_count": 18,
     "metadata": {},
     "output_type": "execute_result"
    }
   ],
   "source": [
    "df['VineetaSingh_present'].value_counts()"
   ]
  },
  {
   "cell_type": "code",
   "execution_count": 19,
   "metadata": {},
   "outputs": [
    {
     "data": {
      "text/plain": [
       "1    92\n",
       "0    29\n",
       "Name: PeyushBansal_present, dtype: int64"
      ]
     },
     "execution_count": 19,
     "metadata": {},
     "output_type": "execute_result"
    }
   ],
   "source": [
    "df['PeyushBansal_present'].value_counts()"
   ]
  },
  {
   "cell_type": "code",
   "execution_count": 20,
   "metadata": {},
   "outputs": [
    {
     "data": {
      "text/plain": [
       "0    95\n",
       "1    26\n",
       "Name: GhazalAlagh_present, dtype: int64"
      ]
     },
     "execution_count": 20,
     "metadata": {},
     "output_type": "execute_result"
    }
   ],
   "source": [
    "df['GhazalAlagh_present'].value_counts()"
   ]
  },
  {
   "cell_type": "code",
   "execution_count": 21,
   "metadata": {},
   "outputs": [],
   "source": [
    "AshneerGrover_present= len(df[df.AshneerGrover_present==1])\n",
    "AnupamMittal_present= len(df[df.AnupamMittal_present==1])\n",
    "AmanGupta_present= len(df[df.AmanGupta_present==1])\n",
    "NamitaThapar_present= len(df[df.NamitaThapar_present==1])\n",
    "VineetaSingh_present= len(df[df.VineetaSingh_present==1])\n",
    "PeyushBansal_present= len(df[df.PeyushBansal_present==1])\n",
    "GhazalAlagh_present= len(df[df.GhazalAlagh_present==1])\n"
   ]
  },
  {
   "cell_type": "code",
   "execution_count": 22,
   "metadata": {},
   "outputs": [
    {
     "data": {
      "image/png": "[encoded data removed]",
      "text/plain": [
       "<Figure size 720x360 with 1 Axes>"
      ]
     },
     "metadata": {
      "needs_background": "light"
     },
     "output_type": "display_data"
    }
   ],
   "source": [
    "fig=plt.figure(figsize=(10,5))\n",
    "present=[AshneerGrover_present,AnupamMittal_present,AmanGupta_present,NamitaThapar_present,VineetaSingh_present,PeyushBansal_present,\n",
    "         GhazalAlagh_present]\n",
    "names=['Ashneer','Anupam','Aman','Namita','Vineeta','Peyush','Ghazal']\n",
    "plt.bar(names,present,color='yellow',width=0.5)\n",
    "plt.xlabel(\"Candidate Name\",color='white')\n",
    "plt.ylabel(\"Candidate Present\",color='white')\n",
    "plt.title(\"Candidate Present vs Name\")\n",
    "plt.show()"
   ]
  },
  {
   "cell_type": "code",
   "execution_count": 23,
   "metadata": {},
   "outputs": [
    {
     "data": {
      "image/png": "[encoded data removed]",
      "text/plain": [
       "<Figure size 432x288 with 1 Axes>"
      ]
     },
     "metadata": {},
     "output_type": "display_data"
    }
   ],
   "source": [
    "plt.pie(present,labels=names,radius=2.0,autopct='%1.1f%%')\n",
    "plt.suptitle(\"Percentage of candidates present\",x=0.55,y=1.55,color='red')\n",
    "plt.show()"
   ]
  },
  {
   "cell_type": "code",
   "execution_count": 24,
   "metadata": {},
   "outputs": [
    {
     "data": {
      "text/plain": [
       "0    100\n",
       "1     21\n",
       "Name: AshneerGrover_deal, dtype: int64"
      ]
     },
     "execution_count": 24,
     "metadata": {},
     "output_type": "execute_result"
    }
   ],
   "source": [
    "df['AshneerGrover_deal'].value_counts()"
   ]
  },
  {
   "cell_type": "code",
   "execution_count": 29,
   "metadata": {},
   "outputs": [
    {
     "data": {
      "text/plain": [
       "0    114\n",
       "1      7\n",
       "Name: GhazalAlagh_deal, dtype: int64"
      ]
     },
     "execution_count": 29,
     "metadata": {},
     "output_type": "execute_result"
    }
   ],
   "source": [
    "df['GhazalAlagh_deal'].value_counts()"
   ]
  },
  {
   "cell_type": "code",
   "execution_count": 31,
   "metadata": {},
   "outputs": [
    {
     "data": {
      "text/plain": [
       "0    93\n",
       "1    28\n",
       "Name: PeyushBansal_deal, dtype: int64"
      ]
     },
     "execution_count": 31,
     "metadata": {},
     "output_type": "execute_result"
    }
   ],
   "source": [
    "df['PeyushBansal_deal'].value_counts()"
   ]
  },
  {
   "cell_type": "code",
   "execution_count": 32,
   "metadata": {},
   "outputs": [
    {
     "data": {
      "text/plain": [
       "0    105\n",
       "1     16\n",
       "Name: VineetaSingh_deal, dtype: int64"
      ]
     },
     "execution_count": 32,
     "metadata": {},
     "output_type": "execute_result"
    }
   ],
   "source": [
    "df['VineetaSingh_deal'].value_counts()"
   ]
  },
  {
   "cell_type": "code",
   "execution_count": 33,
   "metadata": {},
   "outputs": [
    {
     "data": {
      "text/plain": [
       "0    97\n",
       "1    24\n",
       "Name: NamitaThapar_deal, dtype: int64"
      ]
     },
     "execution_count": 33,
     "metadata": {},
     "output_type": "execute_result"
    }
   ],
   "source": [
    "df['NamitaThapar_deal'].value_counts()"
   ]
  },
  {
   "cell_type": "code",
   "execution_count": 34,
   "metadata": {},
   "outputs": [
    {
     "data": {
      "text/plain": [
       "0    92\n",
       "1    29\n",
       "Name: AmanGupta_deal, dtype: int64"
      ]
     },
     "execution_count": 34,
     "metadata": {},
     "output_type": "execute_result"
    }
   ],
   "source": [
    "df['AmanGupta_deal'].value_counts()"
   ]
  },
  {
   "cell_type": "code",
   "execution_count": 35,
   "metadata": {},
   "outputs": [
    {
     "data": {
      "text/plain": [
       "0    97\n",
       "1    24\n",
       "Name: AnupamMittal_deal, dtype: int64"
      ]
     },
     "execution_count": 35,
     "metadata": {},
     "output_type": "execute_result"
    }
   ],
   "source": [
    "df['AnupamMittal_deal'].value_counts()"
   ]
  },
  {
   "cell_type": "code",
   "execution_count": 27,
   "metadata": {},
   "outputs": [],
   "source": [
    "AshneerGrover_deal=len(df[df.AshneerGrover_deal==1])\n",
    "AnupamMittal_deal=len(df[df.AnupamMittal_deal==1])\n",
    "AmanGupta_deal=len(df[df.AmanGupta_deal==1])\n",
    "NamitaThapar_deal=len(df[df.NamitaThapar_deal==1])\n",
    "VineetaSingh_deal=len(df[df.VineetaSingh_deal==1])\n",
    "PeyushBansal_deal=len(df[df.PeyushBansal_deal==1])\n",
    "GhazalAlagh_deal=len(df[df.GhazalAlagh_deal==1])"
   ]
  },
  {
   "cell_type": "code",
   "execution_count": 39,
   "metadata": {},
   "outputs": [
    {
     "data": {
      "image/png": "[encoded data removed]",
      "text/plain": [
       "<Figure size 720x360 with 1 Axes>"
      ]
     },
     "metadata": {
      "needs_background": "light"
     },
     "output_type": "display_data"
    }
   ],
   "source": [
    "fig=plt.figure(figsize=(10,5))\n",
    "deal=[AnupamMittal_deal,AmanGupta_deal,NamitaThapar_deal,VineetaSingh_deal,PeyushBansal_deal,\n",
    "      GhazalAlagh_deal,AshneerGrover_deal]\n",
    "names=['Anupam','Aman','Namita','Vineeta','Peyush','Ghazal','Ashneer']\n",
    "plt.bar(names,deal,color='orange',width=0.5)\n",
    "plt.xlabel(\"Sharks\",color='white')\n",
    "plt.ylabel(\"Sharks Investment\",color='white')\n",
    "plt.title(\"Sharks Investment\")\n",
    "plt.show()"
   ]
  },
  {
   "cell_type": "code",
   "execution_count": 49,
   "metadata": {},
   "outputs": [
    {
     "data": {
      "image/png": "[encoded data removed]",
      "text/plain": [
       "<Figure size 432x288 with 1 Axes>"
      ]
     },
     "metadata": {},
     "output_type": "display_data"
    }
   ],
   "source": [
    "plt.pie(deal,labels=names,radius=3.0,autopct='%1.1f%%',explode=[0.25,0.25,0.25,0.25,0.25,0.25,0.25])\n",
    "plt.suptitle(\"Percentage of candisates invested\",x=0.5,y=1.70,color='yellow')\n",
    "plt.show()"
   ]
  },
  {
   "cell_type": "code",
   "execution_count": 43,
   "metadata": {},
   "outputs": [],
   "source": [
    "aman_percent=(AmanGupta_deal/AmanGupta_present)*100\n",
    "anupam_percent=(AnupamMittal_deal/AnupamMittal_present)*100\n",
    "ashneer_percent=(AshneerGrover_deal/AshneerGrover_present)*100\n",
    "ghazal_percent=(GhazalAlagh_deal/GhazalAlagh_present)*100\n",
    "namita_percent=(NamitaThapar_deal/NamitaThapar_present)*100\n",
    "peyush_percent=(PeyushBansal_deal/PeyushBansal_present)*100\n",
    "vineeta_percent=(VineetaSingh_deal/VineetaSingh_present)*100"
   ]
  },
  {
   "cell_type": "code",
   "execution_count": 44,
   "metadata": {},
   "outputs": [
    {
     "data": {
      "image/png": "[encoded data removed]",
      "text/plain": [
       "<Figure size 720x360 with 1 Axes>"
      ]
     },
     "metadata": {
      "needs_background": "light"
     },
     "output_type": "display_data"
    }
   ],
   "source": [
    "fig=plt.figure(figsize=(10,5))\n",
    "percent=[aman_percent,anupam_percent,ashneer_percent,ghazal_percent,namita_percent,peyush_percent,\n",
    "        vineeta_percent]\n",
    "name=['aman','anuman','ashneer','ghazal','namita','peyush','vineeta']\n",
    "plt.bar(name,percent,color='purple',width=0.5)\n",
    "plt.xlabel(\"sharks\",color='white')\n",
    "plt.ylabel(\"Percentage\",color='white')\n",
    "plt.show()"
   ]
  },
  {
   "cell_type": "code",
   "execution_count": 50,
   "metadata": {},
   "outputs": [
    {
     "data": {
      "image/png": "[encoded data removed]",
      "text/plain": [
       "<Figure size 432x288 with 1 Axes>"
      ]
     },
     "metadata": {},
     "output_type": "display_data"
    }
   ],
   "source": [
    "plt.pie(percent,labels=names,radius=3.0,autopct='%1.1f%%',explode=[0.25,0.25,0.25,0.25,0.25,0.25,0.25])\n",
    "plt.show()"
   ]
  },
  {
   "cell_type": "code",
   "execution_count": null,
   "metadata": {},
   "outputs": [],
   "source": []
  }
 ],
 "metadata": {
  "kernelspec": {
   "display_name": "Python 3",
   "language": "python",
   "name": "python3"
  },
  "language_info": {
   "codemirror_mode": {
    "name": "ipython",
    "version": 3
   },
   "file_extension": ".py",
   "mimetype": "text/x-python",
   "name": "python",
   "nbconvert_exporter": "python",
   "pygments_lexer": "ipython3",
   "version": "3.8.5"
  }
 },
 "nbformat": 4,
 "nbformat_minor": 4
}
